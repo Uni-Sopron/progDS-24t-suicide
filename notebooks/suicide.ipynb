{
 "cells": [
  {
   "cell_type": "code",
   "execution_count": 7,
   "metadata": {},
   "outputs": [
    {
     "data": {
      "text/html": [
       "<div><div style = \"float: left;\"><span>12×7 DataFrame</span></div><div style = \"clear: both;\"></div></div><div class = \"data-frame\" style = \"overflow-x: scroll;\"><table class = \"data-frame\" style = \"margin-bottom: 6px;\"><thead><tr class = \"header\"><th class = \"rowNumber\" style = \"font-weight: bold; text-align: right;\">Row</th><th style = \"text-align: left;\">variable</th><th style = \"text-align: left;\">mean</th><th style = \"text-align: left;\">min</th><th style = \"text-align: left;\">median</th><th style = \"text-align: left;\">max</th><th style = \"text-align: left;\">nmissing</th><th style = \"text-align: left;\">eltype</th></tr><tr class = \"subheader headerLastRow\"><th class = \"rowNumber\" style = \"font-weight: bold; text-align: right;\"></th><th title = \"Symbol\" style = \"text-align: left;\">Symbol</th><th title = \"Union{Nothing, Float64}\" style = \"text-align: left;\">Union…</th><th title = \"Any\" style = \"text-align: left;\">Any</th><th title = \"Union{Nothing, Float64}\" style = \"text-align: left;\">Union…</th><th title = \"Any\" style = \"text-align: left;\">Any</th><th title = \"Int64\" style = \"text-align: left;\">Int64</th><th title = \"Type\" style = \"text-align: left;\">Type</th></tr></thead><tbody><tr><td class = \"rowNumber\" style = \"font-weight: bold; text-align: right;\">1</td><td style = \"text-align: left;\">country</td><td style = \"font-style: italic; text-align: left;\"></td><td style = \"text-align: left;\">Albania</td><td style = \"font-style: italic; text-align: left;\"></td><td style = \"text-align: left;\">Uzbekistan</td><td style = \"text-align: right;\">0</td><td style = \"text-align: left;\">String31</td></tr><tr><td class = \"rowNumber\" style = \"font-weight: bold; text-align: right;\">2</td><td style = \"text-align: left;\">year</td><td style = \"text-align: left;\">2001.26</td><td style = \"text-align: left;\">1985</td><td style = \"text-align: left;\">2002.0</td><td style = \"text-align: left;\">2016</td><td style = \"text-align: right;\">0</td><td style = \"text-align: left;\">Int64</td></tr><tr><td class = \"rowNumber\" style = \"font-weight: bold; text-align: right;\">3</td><td style = \"text-align: left;\">sex</td><td style = \"font-style: italic; text-align: left;\"></td><td style = \"text-align: left;\">female</td><td style = \"font-style: italic; text-align: left;\"></td><td style = \"text-align: left;\">male</td><td style = \"text-align: right;\">0</td><td style = \"text-align: left;\">String7</td></tr><tr><td class = \"rowNumber\" style = \"font-weight: bold; text-align: right;\">4</td><td style = \"text-align: left;\">age</td><td style = \"font-style: italic; text-align: left;\"></td><td style = \"text-align: left;\">15-24 years</td><td style = \"font-style: italic; text-align: left;\"></td><td style = \"text-align: left;\">75+ years</td><td style = \"text-align: right;\">0</td><td style = \"text-align: left;\">String15</td></tr><tr><td class = \"rowNumber\" style = \"font-weight: bold; text-align: right;\">5</td><td style = \"text-align: left;\">suicides_no</td><td style = \"text-align: left;\">242.574</td><td style = \"text-align: left;\">0</td><td style = \"text-align: left;\">25.0</td><td style = \"text-align: left;\">22338</td><td style = \"text-align: right;\">0</td><td style = \"text-align: left;\">Int64</td></tr><tr><td class = \"rowNumber\" style = \"font-weight: bold; text-align: right;\">6</td><td style = \"text-align: left;\">population</td><td style = \"text-align: left;\">1.84479e6</td><td style = \"text-align: left;\">278</td><td style = \"text-align: left;\">430150.0</td><td style = \"text-align: left;\">43805214</td><td style = \"text-align: right;\">0</td><td style = \"text-align: left;\">Int64</td></tr><tr><td class = \"rowNumber\" style = \"font-weight: bold; text-align: right;\">7</td><td style = \"text-align: left;\">suicides/100k pop</td><td style = \"text-align: left;\">12.8161</td><td style = \"text-align: left;\">0.0</td><td style = \"text-align: left;\">5.99</td><td style = \"text-align: left;\">224.97</td><td style = \"text-align: right;\">0</td><td style = \"text-align: left;\">Float64</td></tr><tr><td class = \"rowNumber\" style = \"font-weight: bold; text-align: right;\">8</td><td style = \"text-align: left;\">country-year</td><td style = \"font-style: italic; text-align: left;\"></td><td style = \"text-align: left;\">Albania1987</td><td style = \"font-style: italic; text-align: left;\"></td><td style = \"text-align: left;\">Uzbekistan2014</td><td style = \"text-align: right;\">0</td><td style = \"text-align: left;\">String</td></tr><tr><td class = \"rowNumber\" style = \"font-weight: bold; text-align: right;\">9</td><td style = \"text-align: left;\">HDI for year</td><td style = \"text-align: left;\">0.776601</td><td style = \"text-align: left;\">0.483</td><td style = \"text-align: left;\">0.779</td><td style = \"text-align: left;\">0.944</td><td style = \"text-align: right;\">19456</td><td style = \"text-align: left;\">Union{Missing, Float64}</td></tr><tr><td class = \"rowNumber\" style = \"font-weight: bold; text-align: right;\">10</td><td style = \"text-align: left;\"> gdp_for_year ($) </td><td style = \"font-style: italic; text-align: left;\"></td><td style = \"text-align: left;\">1,002,219,052,968</td><td style = \"font-style: italic; text-align: left;\"></td><td style = \"text-align: left;\">997,007,926</td><td style = \"text-align: right;\">0</td><td style = \"text-align: left;\">String31</td></tr><tr><td class = \"rowNumber\" style = \"font-weight: bold; text-align: right;\">11</td><td style = \"text-align: left;\">gdp_per_capita ($)</td><td style = \"text-align: left;\">16866.5</td><td style = \"text-align: left;\">251</td><td style = \"text-align: left;\">9372.0</td><td style = \"text-align: left;\">126352</td><td style = \"text-align: right;\">0</td><td style = \"text-align: left;\">Int64</td></tr><tr><td class = \"rowNumber\" style = \"font-weight: bold; text-align: right;\">12</td><td style = \"text-align: left;\">generation</td><td style = \"font-style: italic; text-align: left;\"></td><td style = \"text-align: left;\">Boomers</td><td style = \"font-style: italic; text-align: left;\"></td><td style = \"text-align: left;\">Silent</td><td style = \"text-align: right;\">0</td><td style = \"text-align: left;\">String15</td></tr></tbody></table></div>"
      ],
      "text/latex": [
       "\\begin{tabular}{r|ccccccc}\n",
       "\t& variable & mean & min & median & max & nmissing & \\\\\n",
       "\t\\hline\n",
       "\t& Symbol & Union… & Any & Union… & Any & Int64 & \\\\\n",
       "\t\\hline\n",
       "\t1 & country &  & Albania &  & Uzbekistan & 0 & $\\dots$ \\\\\n",
       "\t2 & year & 2001.26 & 1985 & 2002.0 & 2016 & 0 & $\\dots$ \\\\\n",
       "\t3 & sex &  & female &  & male & 0 & $\\dots$ \\\\\n",
       "\t4 & age &  & 15-24 years &  & 75+ years & 0 & $\\dots$ \\\\\n",
       "\t5 & suicides\\_no & 242.574 & 0 & 25.0 & 22338 & 0 & $\\dots$ \\\\\n",
       "\t6 & population & 1.84479e6 & 278 & 430150.0 & 43805214 & 0 & $\\dots$ \\\\\n",
       "\t7 & suicides/100k pop & 12.8161 & 0.0 & 5.99 & 224.97 & 0 & $\\dots$ \\\\\n",
       "\t8 & country-year &  & Albania1987 &  & Uzbekistan2014 & 0 & $\\dots$ \\\\\n",
       "\t9 & HDI for year & 0.776601 & 0.483 & 0.779 & 0.944 & 19456 & $\\dots$ \\\\\n",
       "\t10 &  gdp\\_for\\_year (\\$)  &  & 1,002,219,052,968 &  & 997,007,926 & 0 & $\\dots$ \\\\\n",
       "\t11 & gdp\\_per\\_capita (\\$) & 16866.5 & 251 & 9372.0 & 126352 & 0 & $\\dots$ \\\\\n",
       "\t12 & generation &  & Boomers &  & Silent & 0 & $\\dots$ \\\\\n",
       "\\end{tabular}\n"
      ],
      "text/plain": [
       "\u001b[1m12×7 DataFrame\u001b[0m\n",
       "\u001b[1m Row \u001b[0m│\u001b[1m variable           \u001b[0m\u001b[1m mean      \u001b[0m\u001b[1m min               \u001b[0m\u001b[1m median   \u001b[0m\u001b[1m max        \u001b[0m ⋯\n",
       "     │\u001b[90m Symbol             \u001b[0m\u001b[90m Union…    \u001b[0m\u001b[90m Any               \u001b[0m\u001b[90m Union…   \u001b[0m\u001b[90m Any        \u001b[0m ⋯\n",
       "─────┼──────────────────────────────────────────────────────────────────────────\n",
       "   1 │ country            \u001b[90m           \u001b[0m Albania           \u001b[90m          \u001b[0m Uzbekistan  ⋯\n",
       "   2 │ year                2001.26    1985               2002.0    2016\n",
       "   3 │ sex                \u001b[90m           \u001b[0m female            \u001b[90m          \u001b[0m male\n",
       "   4 │ age                \u001b[90m           \u001b[0m 15-24 years       \u001b[90m          \u001b[0m 75+ years\n",
       "   5 │ suicides_no         242.574    0                  25.0      22338       ⋯\n",
       "   6 │ population          1.84479e6  278                430150.0  43805214\n",
       "   7 │ suicides/100k pop   12.8161    0.0                5.99      224.97\n",
       "   8 │ country-year       \u001b[90m           \u001b[0m Albania1987       \u001b[90m          \u001b[0m Uzbekistan2\n",
       "   9 │ HDI for year        0.776601   0.483              0.779     0.944       ⋯\n",
       "  10 │  gdp_for_year ($)  \u001b[90m           \u001b[0m 1,002,219,052,968 \u001b[90m          \u001b[0m 997,007,926\n",
       "  11 │ gdp_per_capita ($)  16866.5    251                9372.0    126352\n",
       "  12 │ generation         \u001b[90m           \u001b[0m Boomers           \u001b[90m          \u001b[0m Silent\n",
       "\u001b[36m                                                               3 columns omitted\u001b[0m"
      ]
     },
     "execution_count": 7,
     "metadata": {},
     "output_type": "execute_result"
    }
   ],
   "source": [
    "using CSV\n",
    "using DataFrames\n",
    "\n",
    "df = CSV.read(\"suicide.csv\", DataFrame);\n",
    "describe(df)"
   ]
  },
  {
   "cell_type": "code",
   "execution_count": null,
   "metadata": {},
   "outputs": [],
   "source": []
  }
 ],
 "metadata": {
  "kernelspec": {
   "display_name": "Julia 1.10.3",
   "language": "julia",
   "name": "julia-1.10"
  },
  "language_info": {
   "file_extension": ".jl",
   "mimetype": "application/julia",
   "name": "julia",
   "version": "1.10.3"
  }
 },
 "nbformat": 4,
 "nbformat_minor": 4
}
