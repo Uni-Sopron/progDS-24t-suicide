{
 "cells": [
  {
   "cell_type": "code",
   "execution_count": 7,
   "metadata": {},
   "outputs": [],
   "source": [
    "library(\"ggplot2\")\n",
    "library(\"dplyr\")"
   ]
  },
  {
   "cell_type": "code",
   "execution_count": 8,
   "metadata": {},
   "outputs": [
    {
     "data": {
      "text/html": [
       "<table class=\"dataframe\">\n",
       "<caption>A data.frame: 6 × 12</caption>\n",
       "<thead>\n",
       "\t<tr><th></th><th scope=col>ID</th><th scope=col>Warehouse_block</th><th scope=col>Mode_of_Shipment</th><th scope=col>Customer_care_calls</th><th scope=col>Customer_rating</th><th scope=col>Cost_of_the_Product</th><th scope=col>Prior_purchases</th><th scope=col>Product_importance</th><th scope=col>Gender</th><th scope=col>Discount_offered</th><th scope=col>Weight_in_gms</th><th scope=col>Reached.on.Time_Y.N</th></tr>\n",
       "\t<tr><th></th><th scope=col>&lt;int&gt;</th><th scope=col>&lt;chr&gt;</th><th scope=col>&lt;chr&gt;</th><th scope=col>&lt;int&gt;</th><th scope=col>&lt;int&gt;</th><th scope=col>&lt;int&gt;</th><th scope=col>&lt;int&gt;</th><th scope=col>&lt;chr&gt;</th><th scope=col>&lt;chr&gt;</th><th scope=col>&lt;int&gt;</th><th scope=col>&lt;int&gt;</th><th scope=col>&lt;int&gt;</th></tr>\n",
       "</thead>\n",
       "<tbody>\n",
       "\t<tr><th scope=row>1</th><td>1</td><td>D</td><td>Flight</td><td>4</td><td>2</td><td>177</td><td>3</td><td>low   </td><td>F</td><td>44</td><td>1233</td><td>1</td></tr>\n",
       "\t<tr><th scope=row>2</th><td>2</td><td>F</td><td>Flight</td><td>4</td><td>5</td><td>216</td><td>2</td><td>low   </td><td>M</td><td>59</td><td>3088</td><td>1</td></tr>\n",
       "\t<tr><th scope=row>3</th><td>3</td><td>A</td><td>Flight</td><td>2</td><td>2</td><td>183</td><td>4</td><td>low   </td><td>M</td><td>48</td><td>3374</td><td>1</td></tr>\n",
       "\t<tr><th scope=row>4</th><td>4</td><td>B</td><td>Flight</td><td>3</td><td>3</td><td>176</td><td>4</td><td>medium</td><td>M</td><td>10</td><td>1177</td><td>1</td></tr>\n",
       "\t<tr><th scope=row>5</th><td>5</td><td>C</td><td>Flight</td><td>2</td><td>2</td><td>184</td><td>3</td><td>medium</td><td>F</td><td>46</td><td>2484</td><td>1</td></tr>\n",
       "\t<tr><th scope=row>6</th><td>6</td><td>F</td><td>Flight</td><td>3</td><td>1</td><td>162</td><td>3</td><td>medium</td><td>F</td><td>12</td><td>1417</td><td>1</td></tr>\n",
       "</tbody>\n",
       "</table>\n"
      ],
      "text/latex": [
       "A data.frame: 6 × 12\n",
       "\\begin{tabular}{r|llllllllllll}\n",
       "  & ID & Warehouse\\_block & Mode\\_of\\_Shipment & Customer\\_care\\_calls & Customer\\_rating & Cost\\_of\\_the\\_Product & Prior\\_purchases & Product\\_importance & Gender & Discount\\_offered & Weight\\_in\\_gms & Reached.on.Time\\_Y.N\\\\\n",
       "  & <int> & <chr> & <chr> & <int> & <int> & <int> & <int> & <chr> & <chr> & <int> & <int> & <int>\\\\\n",
       "\\hline\n",
       "\t1 & 1 & D & Flight & 4 & 2 & 177 & 3 & low    & F & 44 & 1233 & 1\\\\\n",
       "\t2 & 2 & F & Flight & 4 & 5 & 216 & 2 & low    & M & 59 & 3088 & 1\\\\\n",
       "\t3 & 3 & A & Flight & 2 & 2 & 183 & 4 & low    & M & 48 & 3374 & 1\\\\\n",
       "\t4 & 4 & B & Flight & 3 & 3 & 176 & 4 & medium & M & 10 & 1177 & 1\\\\\n",
       "\t5 & 5 & C & Flight & 2 & 2 & 184 & 3 & medium & F & 46 & 2484 & 1\\\\\n",
       "\t6 & 6 & F & Flight & 3 & 1 & 162 & 3 & medium & F & 12 & 1417 & 1\\\\\n",
       "\\end{tabular}\n"
      ],
      "text/markdown": [
       "\n",
       "A data.frame: 6 × 12\n",
       "\n",
       "| <!--/--> | ID &lt;int&gt; | Warehouse_block &lt;chr&gt; | Mode_of_Shipment &lt;chr&gt; | Customer_care_calls &lt;int&gt; | Customer_rating &lt;int&gt; | Cost_of_the_Product &lt;int&gt; | Prior_purchases &lt;int&gt; | Product_importance &lt;chr&gt; | Gender &lt;chr&gt; | Discount_offered &lt;int&gt; | Weight_in_gms &lt;int&gt; | Reached.on.Time_Y.N &lt;int&gt; |\n",
       "|---|---|---|---|---|---|---|---|---|---|---|---|---|\n",
       "| 1 | 1 | D | Flight | 4 | 2 | 177 | 3 | low    | F | 44 | 1233 | 1 |\n",
       "| 2 | 2 | F | Flight | 4 | 5 | 216 | 2 | low    | M | 59 | 3088 | 1 |\n",
       "| 3 | 3 | A | Flight | 2 | 2 | 183 | 4 | low    | M | 48 | 3374 | 1 |\n",
       "| 4 | 4 | B | Flight | 3 | 3 | 176 | 4 | medium | M | 10 | 1177 | 1 |\n",
       "| 5 | 5 | C | Flight | 2 | 2 | 184 | 3 | medium | F | 46 | 2484 | 1 |\n",
       "| 6 | 6 | F | Flight | 3 | 1 | 162 | 3 | medium | F | 12 | 1417 | 1 |\n",
       "\n"
      ],
      "text/plain": [
       "  ID Warehouse_block Mode_of_Shipment Customer_care_calls Customer_rating\n",
       "1 1  D               Flight           4                   2              \n",
       "2 2  F               Flight           4                   5              \n",
       "3 3  A               Flight           2                   2              \n",
       "4 4  B               Flight           3                   3              \n",
       "5 5  C               Flight           2                   2              \n",
       "6 6  F               Flight           3                   1              \n",
       "  Cost_of_the_Product Prior_purchases Product_importance Gender\n",
       "1 177                 3               low                F     \n",
       "2 216                 2               low                M     \n",
       "3 183                 4               low                M     \n",
       "4 176                 4               medium             M     \n",
       "5 184                 3               medium             F     \n",
       "6 162                 3               medium             F     \n",
       "  Discount_offered Weight_in_gms Reached.on.Time_Y.N\n",
       "1 44               1233          1                  \n",
       "2 59               3088          1                  \n",
       "3 48               3374          1                  \n",
       "4 10               1177          1                  \n",
       "5 46               2484          1                  \n",
       "6 12               1417          1                  "
      ]
     },
     "metadata": {},
     "output_type": "display_data"
    }
   ],
   "source": [
    "#Datasource: https://www.kaggle.com/datasets/nayanack/shipping/data\n",
    "shipping <- read.csv(\"shipping.csv\", header=TRUE)\n",
    "head(shipping)"
   ]
  },
  {
   "cell_type": "code",
   "execution_count": 11,
   "metadata": {},
   "outputs": [
    {
     "data": {
      "text/html": [
       "<table class=\"dataframe\">\n",
       "<caption>A tibble: 3 × 3</caption>\n",
       "<thead>\n",
       "\t<tr><th scope=col>Mode_of_Shipment</th><th scope=col>Mean</th><th scope=col>Standard_deviation</th></tr>\n",
       "\t<tr><th scope=col>&lt;chr&gt;</th><th scope=col>&lt;dbl&gt;</th><th scope=col>&lt;dbl&gt;</th></tr>\n",
       "</thead>\n",
       "<tbody>\n",
       "\t<tr><td>Flight</td><td>2.982555</td><td>1.426199</td></tr>\n",
       "\t<tr><td>Road  </td><td>2.995455</td><td>1.421824</td></tr>\n",
       "\t<tr><td>Ship  </td><td>2.991289</td><td>1.408822</td></tr>\n",
       "</tbody>\n",
       "</table>\n"
      ],
      "text/latex": [
       "A tibble: 3 × 3\n",
       "\\begin{tabular}{lll}\n",
       " Mode\\_of\\_Shipment & Mean & Standard\\_deviation\\\\\n",
       " <chr> & <dbl> & <dbl>\\\\\n",
       "\\hline\n",
       "\t Flight & 2.982555 & 1.426199\\\\\n",
       "\t Road   & 2.995455 & 1.421824\\\\\n",
       "\t Ship   & 2.991289 & 1.408822\\\\\n",
       "\\end{tabular}\n"
      ],
      "text/markdown": [
       "\n",
       "A tibble: 3 × 3\n",
       "\n",
       "| Mode_of_Shipment &lt;chr&gt; | Mean &lt;dbl&gt; | Standard_deviation &lt;dbl&gt; |\n",
       "|---|---|---|\n",
       "| Flight | 2.982555 | 1.426199 |\n",
       "| Road   | 2.995455 | 1.421824 |\n",
       "| Ship   | 2.991289 | 1.408822 |\n",
       "\n"
      ],
      "text/plain": [
       "  Mode_of_Shipment Mean     Standard_deviation\n",
       "1 Flight           2.982555 1.426199          \n",
       "2 Road             2.995455 1.421824          \n",
       "3 Ship             2.991289 1.408822          "
      ]
     },
     "metadata": {},
     "output_type": "display_data"
    }
   ],
   "source": [
    "#Mean of Customer rating by shipment method\n",
    "by_shipment_method <- shipping %>% group_by(Mode_of_Shipment)\n",
    "by_shipment_method <- by_shipment_method %>% summarise(Mean = mean(Customer_rating), Standard_deviation = sd(Customer_rating))\n",
    "\n",
    "by_shipment_method"
   ]
  },
  {
   "cell_type": "code",
   "execution_count": 12,
   "metadata": {},
   "outputs": [
    {
     "data": {
      "text/html": [
       "<table class=\"dataframe\">\n",
       "<caption>A tibble: 5 × 3</caption>\n",
       "<thead>\n",
       "\t<tr><th scope=col>Warehouse_block</th><th scope=col>Mean</th><th scope=col>Standard_deviation</th></tr>\n",
       "\t<tr><th scope=col>&lt;chr&gt;</th><th scope=col>&lt;dbl&gt;</th><th scope=col>&lt;dbl&gt;</th></tr>\n",
       "</thead>\n",
       "<tbody>\n",
       "\t<tr><td>A</td><td>2.957447</td><td>1.434654</td></tr>\n",
       "\t<tr><td>B</td><td>2.980360</td><td>1.416391</td></tr>\n",
       "\t<tr><td>C</td><td>2.993999</td><td>1.403157</td></tr>\n",
       "\t<tr><td>D</td><td>3.017993</td><td>1.405004</td></tr>\n",
       "\t<tr><td>F</td><td>2.996727</td><td>1.411506</td></tr>\n",
       "</tbody>\n",
       "</table>\n"
      ],
      "text/latex": [
       "A tibble: 5 × 3\n",
       "\\begin{tabular}{lll}\n",
       " Warehouse\\_block & Mean & Standard\\_deviation\\\\\n",
       " <chr> & <dbl> & <dbl>\\\\\n",
       "\\hline\n",
       "\t A & 2.957447 & 1.434654\\\\\n",
       "\t B & 2.980360 & 1.416391\\\\\n",
       "\t C & 2.993999 & 1.403157\\\\\n",
       "\t D & 3.017993 & 1.405004\\\\\n",
       "\t F & 2.996727 & 1.411506\\\\\n",
       "\\end{tabular}\n"
      ],
      "text/markdown": [
       "\n",
       "A tibble: 5 × 3\n",
       "\n",
       "| Warehouse_block &lt;chr&gt; | Mean &lt;dbl&gt; | Standard_deviation &lt;dbl&gt; |\n",
       "|---|---|---|\n",
       "| A | 2.957447 | 1.434654 |\n",
       "| B | 2.980360 | 1.416391 |\n",
       "| C | 2.993999 | 1.403157 |\n",
       "| D | 3.017993 | 1.405004 |\n",
       "| F | 2.996727 | 1.411506 |\n",
       "\n"
      ],
      "text/plain": [
       "  Warehouse_block Mean     Standard_deviation\n",
       "1 A               2.957447 1.434654          \n",
       "2 B               2.980360 1.416391          \n",
       "3 C               2.993999 1.403157          \n",
       "4 D               3.017993 1.405004          \n",
       "5 F               2.996727 1.411506          "
      ]
     },
     "metadata": {},
     "output_type": "display_data"
    }
   ],
   "source": [
    "#Mean of Customer rating by Warehouse storage block\n",
    "by_warehouse_block <- shipping %>% group_by(Warehouse_block)\n",
    "by_warehouse_block <- by_warehouse_block %>% summarise(Mean = mean(Customer_rating), Standard_deviation = sd(Customer_rating))\n",
    "\n",
    "by_warehouse_block"
   ]
  },
  {
   "cell_type": "code",
   "execution_count": null,
   "metadata": {},
   "outputs": [],
   "source": []
  }
 ],
 "metadata": {
  "kernelspec": {
   "display_name": "R",
   "language": "R",
   "name": "ir"
  },
  "language_info": {
   "codemirror_mode": "r",
   "file_extension": ".r",
   "mimetype": "text/x-r-source",
   "name": "R",
   "pygments_lexer": "r",
   "version": "4.3.3"
  }
 },
 "nbformat": 4,
 "nbformat_minor": 4
}
