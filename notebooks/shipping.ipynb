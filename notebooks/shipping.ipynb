{
 "cells": [
  {
   "cell_type": "code",
   "execution_count": 1,
   "metadata": {
    "vscode": {
     "languageId": "r"
    }
   },
   "outputs": [],
   "source": [
    "df <- read.csv(\"shipping.csv\", header=TRUE)"
   ]
  },
  {
   "cell_type": "code",
   "execution_count": 4,
   "metadata": {},
   "outputs": [
    {
     "data": {
      "text/html": [
       "<table class=\"dataframe\">\n",
       "<caption>A data.frame: 6 × 12</caption>\n",
       "<thead>\n",
       "\t<tr><th></th><th scope=col>ID</th><th scope=col>Warehouse_block</th><th scope=col>Mode_of_Shipment</th><th scope=col>Customer_care_calls</th><th scope=col>Customer_rating</th><th scope=col>Cost_of_the_Product</th><th scope=col>Prior_purchases</th><th scope=col>Product_importance</th><th scope=col>Gender</th><th scope=col>Discount_offered</th><th scope=col>Weight_in_gms</th><th scope=col>Reached.on.Time_Y.N</th></tr>\n",
       "\t<tr><th></th><th scope=col>&lt;int&gt;</th><th scope=col>&lt;chr&gt;</th><th scope=col>&lt;chr&gt;</th><th scope=col>&lt;int&gt;</th><th scope=col>&lt;int&gt;</th><th scope=col>&lt;int&gt;</th><th scope=col>&lt;int&gt;</th><th scope=col>&lt;chr&gt;</th><th scope=col>&lt;chr&gt;</th><th scope=col>&lt;int&gt;</th><th scope=col>&lt;int&gt;</th><th scope=col>&lt;int&gt;</th></tr>\n",
       "</thead>\n",
       "<tbody>\n",
       "\t<tr><th scope=row>1</th><td>1</td><td>D</td><td>Flight</td><td>4</td><td>2</td><td>177</td><td>3</td><td>low   </td><td>F</td><td>44</td><td>1233</td><td>1</td></tr>\n",
       "\t<tr><th scope=row>2</th><td>2</td><td>F</td><td>Flight</td><td>4</td><td>5</td><td>216</td><td>2</td><td>low   </td><td>M</td><td>59</td><td>3088</td><td>1</td></tr>\n",
       "\t<tr><th scope=row>3</th><td>3</td><td>A</td><td>Flight</td><td>2</td><td>2</td><td>183</td><td>4</td><td>low   </td><td>M</td><td>48</td><td>3374</td><td>1</td></tr>\n",
       "\t<tr><th scope=row>4</th><td>4</td><td>B</td><td>Flight</td><td>3</td><td>3</td><td>176</td><td>4</td><td>medium</td><td>M</td><td>10</td><td>1177</td><td>1</td></tr>\n",
       "\t<tr><th scope=row>5</th><td>5</td><td>C</td><td>Flight</td><td>2</td><td>2</td><td>184</td><td>3</td><td>medium</td><td>F</td><td>46</td><td>2484</td><td>1</td></tr>\n",
       "\t<tr><th scope=row>6</th><td>6</td><td>F</td><td>Flight</td><td>3</td><td>1</td><td>162</td><td>3</td><td>medium</td><td>F</td><td>12</td><td>1417</td><td>1</td></tr>\n",
       "</tbody>\n",
       "</table>\n"
      ],
      "text/latex": [
       "A data.frame: 6 × 12\n",
       "\\begin{tabular}{r|llllllllllll}\n",
       "  & ID & Warehouse\\_block & Mode\\_of\\_Shipment & Customer\\_care\\_calls & Customer\\_rating & Cost\\_of\\_the\\_Product & Prior\\_purchases & Product\\_importance & Gender & Discount\\_offered & Weight\\_in\\_gms & Reached.on.Time\\_Y.N\\\\\n",
       "  & <int> & <chr> & <chr> & <int> & <int> & <int> & <int> & <chr> & <chr> & <int> & <int> & <int>\\\\\n",
       "\\hline\n",
       "\t1 & 1 & D & Flight & 4 & 2 & 177 & 3 & low    & F & 44 & 1233 & 1\\\\\n",
       "\t2 & 2 & F & Flight & 4 & 5 & 216 & 2 & low    & M & 59 & 3088 & 1\\\\\n",
       "\t3 & 3 & A & Flight & 2 & 2 & 183 & 4 & low    & M & 48 & 3374 & 1\\\\\n",
       "\t4 & 4 & B & Flight & 3 & 3 & 176 & 4 & medium & M & 10 & 1177 & 1\\\\\n",
       "\t5 & 5 & C & Flight & 2 & 2 & 184 & 3 & medium & F & 46 & 2484 & 1\\\\\n",
       "\t6 & 6 & F & Flight & 3 & 1 & 162 & 3 & medium & F & 12 & 1417 & 1\\\\\n",
       "\\end{tabular}\n"
      ],
      "text/markdown": [
       "\n",
       "A data.frame: 6 × 12\n",
       "\n",
       "| <!--/--> | ID &lt;int&gt; | Warehouse_block &lt;chr&gt; | Mode_of_Shipment &lt;chr&gt; | Customer_care_calls &lt;int&gt; | Customer_rating &lt;int&gt; | Cost_of_the_Product &lt;int&gt; | Prior_purchases &lt;int&gt; | Product_importance &lt;chr&gt; | Gender &lt;chr&gt; | Discount_offered &lt;int&gt; | Weight_in_gms &lt;int&gt; | Reached.on.Time_Y.N &lt;int&gt; |\n",
       "|---|---|---|---|---|---|---|---|---|---|---|---|---|\n",
       "| 1 | 1 | D | Flight | 4 | 2 | 177 | 3 | low    | F | 44 | 1233 | 1 |\n",
       "| 2 | 2 | F | Flight | 4 | 5 | 216 | 2 | low    | M | 59 | 3088 | 1 |\n",
       "| 3 | 3 | A | Flight | 2 | 2 | 183 | 4 | low    | M | 48 | 3374 | 1 |\n",
       "| 4 | 4 | B | Flight | 3 | 3 | 176 | 4 | medium | M | 10 | 1177 | 1 |\n",
       "| 5 | 5 | C | Flight | 2 | 2 | 184 | 3 | medium | F | 46 | 2484 | 1 |\n",
       "| 6 | 6 | F | Flight | 3 | 1 | 162 | 3 | medium | F | 12 | 1417 | 1 |\n",
       "\n"
      ],
      "text/plain": [
       "  ID Warehouse_block Mode_of_Shipment Customer_care_calls Customer_rating\n",
       "1 1  D               Flight           4                   2              \n",
       "2 2  F               Flight           4                   5              \n",
       "3 3  A               Flight           2                   2              \n",
       "4 4  B               Flight           3                   3              \n",
       "5 5  C               Flight           2                   2              \n",
       "6 6  F               Flight           3                   1              \n",
       "  Cost_of_the_Product Prior_purchases Product_importance Gender\n",
       "1 177                 3               low                F     \n",
       "2 216                 2               low                M     \n",
       "3 183                 4               low                M     \n",
       "4 176                 4               medium             M     \n",
       "5 184                 3               medium             F     \n",
       "6 162                 3               medium             F     \n",
       "  Discount_offered Weight_in_gms Reached.on.Time_Y.N\n",
       "1 44               1233          1                  \n",
       "2 59               3088          1                  \n",
       "3 48               3374          1                  \n",
       "4 10               1177          1                  \n",
       "5 46               2484          1                  \n",
       "6 12               1417          1                  "
      ]
     },
     "metadata": {},
     "output_type": "display_data"
    }
   ],
   "source": [
    "head(df)"
   ]
  },
  {
   "cell_type": "code",
   "execution_count": null,
   "metadata": {},
   "outputs": [],
   "source": []
  }
 ],
 "metadata": {
  "kernelspec": {
   "display_name": "R",
   "language": "R",
   "name": "ir"
  },
  "language_info": {
   "codemirror_mode": "r",
   "file_extension": ".r",
   "mimetype": "text/x-r-source",
   "name": "R",
   "pygments_lexer": "r",
   "version": "4.3.3"
  }
 },
 "nbformat": 4,
 "nbformat_minor": 4
}
